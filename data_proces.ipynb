{
 "cells": [
  {
   "cell_type": "code",
   "execution_count": null,
   "id": "c7be79b3",
   "metadata": {},
   "outputs": [],
   "source": [
    "import datatable as dt\n",
    "\n",
    "DT4 = dt.fread(\"Taxi_Trips_-_2019.csv\")"
   ]
  },
  {
   "cell_type": "code",
   "execution_count": null,
   "id": "a926b8cf",
   "metadata": {},
   "outputs": [],
   "source": [
    "DT4 = DT4[0:-1,[2,4,5,8,9,16]]\n",
    "DT4"
   ]
  },
  {
   "cell_type": "code",
   "execution_count": null,
   "id": "01d339db",
   "metadata": {},
   "outputs": [],
   "source": [
    "DT4.to_csv(\"temp.csv\")"
   ]
  },
  {
   "cell_type": "code",
   "execution_count": null,
   "id": "4d839cfb",
   "metadata": {},
   "outputs": [],
   "source": []
  },
  {
   "cell_type": "code",
   "execution_count": null,
   "id": "1a844765",
   "metadata": {},
   "outputs": [],
   "source": [
    "import csv\n",
    "\n",
    "with open('temp.csv') as csv_file:\n",
    "    csv_reader = csv.reader(csv_file, delimiter=',')\n",
    "    line_count = 0\n",
    "    line1 = None\n",
    "    lines = []\n",
    "    for row in csv_reader:\n",
    "        if(line_count == 0):\n",
    "            line1=row\n",
    "        else:\n",
    "            if(row[2] != '' and float(row[2]) >= 0.5 and float(row[2]) <= 100):\n",
    "                lines+=[row]\n",
    "        line_count += 1\n",
    "    print(f'Processed {line_count} lines.')"
   ]
  },
  {
   "cell_type": "code",
   "execution_count": null,
   "id": "1f13543c",
   "metadata": {},
   "outputs": [],
   "source": [
    "filename = 'mileschanged.csv'\n",
    "with open(filename, 'w') as csvfile:\n",
    "    csvwriter = csv.writer(csvfile) \n",
    "    csvwriter.writerow(line1)\n",
    "    csvwriter.writerows(lines)"
   ]
  },
  {
   "cell_type": "code",
   "execution_count": null,
   "id": "27fe18b4",
   "metadata": {},
   "outputs": [],
   "source": [
    "DT = dt.fread(\"mileschanged.csv\")"
   ]
  },
  {
   "cell_type": "code",
   "execution_count": null,
   "id": "4feb6274",
   "metadata": {},
   "outputs": [],
   "source": [
    "DT"
   ]
  },
  {
   "cell_type": "code",
   "execution_count": 2,
   "id": "9a19c670",
   "metadata": {},
   "outputs": [
    {
     "name": "stdout",
     "output_type": "stream",
     "text": [
      "Processed 25731006 lines.\n"
     ]
    }
   ],
   "source": [
    "import csv\n",
    "\n",
    "with open('mileschanged.csv') as csv_file:\n",
    "    csv_reader = csv.reader(csv_file, delimiter=',')\n",
    "    line_count = 0\n",
    "    line1 = None\n",
    "    lines = []\n",
    "    for row in csv_reader:\n",
    "        if(line_count == 0):\n",
    "            line1=row\n",
    "        else:\n",
    "            if(row):\n",
    "                if(row[1] != '' and int(row[1]) >= 60 and int(row[1]) <= 18000):\n",
    "                    lines+=[row]\n",
    "        line_count += 1\n",
    "    print(f'Processed {line_count} lines.')"
   ]
  },
  {
   "cell_type": "code",
   "execution_count": 4,
   "id": "bd2bfce9",
   "metadata": {},
   "outputs": [],
   "source": [
    "filename = 'trip_time_change.csv'\n",
    "with open(filename, 'w') as csvfile:\n",
    "    csvwriter = csv.writer(csvfile) \n",
    "    csvwriter.writerow(line1)\n",
    "    csvwriter.writerows(lines)"
   ]
  },
  {
   "cell_type": "code",
   "execution_count": 6,
   "id": "d4988f91",
   "metadata": {
    "scrolled": true
   },
   "outputs": [
    {
     "data": {
      "text/html": [
       "<style type='text/css'>\n",
       ".datatable table.frame { margin-bottom: 0; }\n",
       ".datatable table.frame thead { border-bottom: none; }\n",
       ".datatable table.frame tr.coltypes td {  color: #FFFFFF;  line-height: 6px;  padding: 0 0.5em;}\n",
       ".datatable .bool    { background: #DDDD99; }\n",
       ".datatable .object  { background: #565656; }\n",
       ".datatable .int     { background: #5D9E5D; }\n",
       ".datatable .float   { background: #4040CC; }\n",
       ".datatable .str     { background: #CC4040; }\n",
       ".datatable .time    { background: #40CC40; }\n",
       ".datatable .row_index {  background: var(--jp-border-color3);  border-right: 1px solid var(--jp-border-color0);  color: var(--jp-ui-font-color3);  font-size: 9px;}\n",
       ".datatable .frame tbody td { text-align: left; }\n",
       ".datatable .frame tr.coltypes .row_index {  background: var(--jp-border-color0);}\n",
       ".datatable th:nth-child(2) { padding-left: 12px; }\n",
       ".datatable .hellipsis {  color: var(--jp-cell-editor-border-color);}\n",
       ".datatable .vellipsis {  background: var(--jp-layout-color0);  color: var(--jp-cell-editor-border-color);}\n",
       ".datatable .na {  color: var(--jp-cell-editor-border-color);  font-size: 80%;}\n",
       ".datatable .sp {  opacity: 0.25;}\n",
       ".datatable .footer { font-size: 9px; }\n",
       ".datatable .frame_dimensions {  background: var(--jp-border-color3);  border-top: 1px solid var(--jp-border-color0);  color: var(--jp-ui-font-color3);  display: inline-block;  opacity: 0.6;  padding: 1px 10px 1px 5px;}\n",
       "</style>\n"
      ],
      "text/plain": [
       "<IPython.core.display.HTML object>"
      ]
     },
     "metadata": {},
     "output_type": "display_data"
    },
    {
     "data": {
      "text/html": [
       "<div class='datatable'>\n",
       "  <table class='frame'>\n",
       "  <thead>\n",
       "    <tr class='colnames'><td class='row_index'></td><th>Trip Start Timestamp</th><th>Trip Seconds</th><th>Trip Miles</th><th>Pickup Community Area</th><th>Dropoff Community Area</th><th>Company</th></tr>\n",
       "    <tr class='coltypes'><td class='row_index'></td><td class='str' title='str32'>&#x25AA;&#x25AA;&#x25AA;&#x25AA;</td><td class='int' title='int32'>&#x25AA;&#x25AA;&#x25AA;&#x25AA;</td><td class='float' title='float64'>&#x25AA;&#x25AA;&#x25AA;&#x25AA;&#x25AA;&#x25AA;&#x25AA;&#x25AA;</td><td class='int' title='int32'>&#x25AA;&#x25AA;&#x25AA;&#x25AA;</td><td class='int' title='int32'>&#x25AA;&#x25AA;&#x25AA;&#x25AA;</td><td class='str' title='str32'>&#x25AA;&#x25AA;&#x25AA;&#x25AA;</td></tr>\n",
       "  </thead>\n",
       "  <tbody>\n",
       "    <tr><td class='row_index'>0</td><td>01/01/2019 12:00:00 AM</td><td>885</td><td>3.45</td><td><span class=na>NA</span></td><td><span class=na>NA</span></td><td>Flash Cab</td></tr>\n",
       "    <tr><td class='row_index'>1</td><td>01/01/2019 12:00:00 AM</td><td>960</td><td>4.9</td><td><span class=na>NA</span></td><td><span class=na>NA</span></td><td>Star North Management LLC</td></tr>\n",
       "    <tr><td class='row_index'>2</td><td>01/01/2019 12:00:00 AM</td><td>420</td><td>1.5</td><td><span class=na>NA</span></td><td><span class=na>NA</span></td><td>Star North Management LLC</td></tr>\n",
       "    <tr><td class='row_index'>3</td><td>01/01/2019 12:00:00 AM</td><td>420</td><td>0.5</td><td><span class=na>NA</span></td><td><span class=na>NA</span></td><td>Star North Management LLC</td></tr>\n",
       "    <tr><td class='row_index'>4</td><td>01/01/2019 12:00:00 AM</td><td>360</td><td>1.7</td><td><span class=na>NA</span></td><td><span class=na>NA</span></td><td>Taxi Affiliation Services</td></tr>\n",
       "    <tr><td class='row_index'>5</td><td>01/01/2019 12:00:00 AM</td><td>780</td><td>4.5</td><td><span class=na>NA</span></td><td><span class=na>NA</span></td><td>Star North Management LLC</td></tr>\n",
       "    <tr><td class='row_index'>6</td><td>01/01/2019 12:00:00 AM</td><td>1680</td><td>3</td><td><span class=na>NA</span></td><td><span class=na>NA</span></td><td>Choice Taxi Association</td></tr>\n",
       "    <tr><td class='row_index'>7</td><td>01/01/2019 12:00:00 AM</td><td>1200</td><td>6.7</td><td><span class=na>NA</span></td><td><span class=na>NA</span></td><td>Chicago Independents</td></tr>\n",
       "    <tr><td class='row_index'>8</td><td>01/01/2019 12:00:00 AM</td><td>1260</td><td>0.6</td><td>77</td><td>28</td><td>Blue Ribbon Taxi Association Inc.</td></tr>\n",
       "    <tr><td class='row_index'>9</td><td>01/01/2019 12:00:00 AM</td><td>360</td><td>0.8</td><td>8</td><td>8</td><td>Taxi Affiliation Services</td></tr>\n",
       "    <tr><td class='row_index'>10</td><td>01/01/2019 12:00:00 AM</td><td>360</td><td>1</td><td>8</td><td>8</td><td>Taxi Affiliation Services</td></tr>\n",
       "    <tr><td class='row_index'>11</td><td>01/01/2019 12:00:00 AM</td><td>420</td><td>0.8</td><td>8</td><td>8</td><td>Taxicab Insurance Agency, LLC</td></tr>\n",
       "    <tr><td class='row_index'>12</td><td>01/01/2019 12:00:00 AM</td><td>180</td><td>0.7</td><td>77</td><td>4</td><td>Taxi Affiliation Services</td></tr>\n",
       "    <tr><td class='row_index'>13</td><td>01/01/2019 12:00:00 AM</td><td>960</td><td>0.6</td><td>28</td><td>32</td><td>Taxi Affiliation Services</td></tr>\n",
       "    <tr><td class='row_index'>14</td><td>01/01/2019 12:00:00 AM</td><td>540</td><td>1</td><td>32</td><td>8</td><td>Choice Taxi Association</td></tr>\n",
       "    <tr><td class='row_index'>&#x22EE;</td><td class='hellipsis'>&#x22EE;</td><td class='hellipsis'>&#x22EE;</td><td class='hellipsis'>&#x22EE;</td><td class='hellipsis'>&#x22EE;</td><td class='hellipsis'>&#x22EE;</td><td class='hellipsis'>&#x22EE;</td></tr>\n",
       "    <tr><td class='row_index'>12,844,661</td><td>12/31/2019 11:45:00 PM</td><td>2241</td><td>2.21</td><td>32</td><td>8</td><td>Flash Cab</td></tr>\n",
       "    <tr><td class='row_index'>12,844,662</td><td>12/31/2019 11:45:00 PM</td><td>1639</td><td>4.1</td><td>7</td><td>32</td><td>Sun Taxi</td></tr>\n",
       "    <tr><td class='row_index'>12,844,663</td><td>12/31/2019 11:45:00 PM</td><td>2040</td><td>18.3</td><td>76</td><td>8</td><td>4053 - 40193 Adwar H. Nikola</td></tr>\n",
       "    <tr><td class='row_index'>12,844,664</td><td>12/31/2019 11:45:00 PM</td><td>4271</td><td>17.81</td><td>56</td><td>8</td><td>Chicago Carriage Cab Corp</td></tr>\n",
       "    <tr><td class='row_index'>12,844,665</td><td>12/31/2019 11:45:00 PM</td><td>600</td><td>1.3</td><td>32</td><td>8</td><td>Star North Management LLC</td></tr>\n",
       "  </tbody>\n",
       "  </table>\n",
       "  <div class='footer'>\n",
       "    <div class='frame_dimensions'>12,844,666 rows &times; 6 columns</div>\n",
       "  </div>\n",
       "</div>\n"
      ],
      "text/plain": [
       "<Frame#18370273090 12844666x6>"
      ]
     },
     "execution_count": 6,
     "metadata": {},
     "output_type": "execute_result"
    }
   ],
   "source": [
    "import datatable as dt\n",
    "DT = dt.fread(\"trip_time_change.csv\")\n"
   ]
  },
  {
   "cell_type": "code",
   "execution_count": 13,
   "id": "38334d28",
   "metadata": {},
   "outputs": [
    {
     "name": "stdout",
     "output_type": "stream",
     "text": [
      "Processed 25689334 lines.\n"
     ]
    }
   ],
   "source": [
    "import csv\n",
    "\n",
    "with open('trip_time_change.csv') as csv_file:\n",
    "    csv_reader = csv.reader(csv_file, delimiter=',')\n",
    "    line_count = 0\n",
    "    line1 = None\n",
    "    lines = []\n",
    "    for row in csv_reader:\n",
    "        if(line_count == 0):\n",
    "            line1=row\n",
    "        else:\n",
    "            if(row):\n",
    "                if(row[3] and row[4]):\n",
    "                    lines+=[row]\n",
    "        line_count += 1\n",
    "    print(f'Processed {line_count} lines.')"
   ]
  },
  {
   "cell_type": "code",
   "execution_count": 15,
   "id": "4f147003",
   "metadata": {},
   "outputs": [],
   "source": [
    "filename = 'startandendinchi.csv'\n",
    "with open(filename, 'w') as csvfile:\n",
    "    csvwriter = csv.writer(csvfile) \n",
    "    csvwriter.writerow(line1)\n",
    "    csvwriter.writerows(lines)"
   ]
  },
  {
   "cell_type": "code",
   "execution_count": 16,
   "id": "bd4a45d9",
   "metadata": {},
   "outputs": [
    {
     "data": {
      "text/html": [
       "<div class='datatable'>\n",
       "  <table class='frame'>\n",
       "  <thead>\n",
       "    <tr class='colnames'><td class='row_index'></td><th>Trip Start Timestamp</th><th>Trip Seconds</th><th>Trip Miles</th><th>Pickup Community Area</th><th>Dropoff Community Area</th><th>Company</th></tr>\n",
       "    <tr class='coltypes'><td class='row_index'></td><td class='str' title='str32'>&#x25AA;&#x25AA;&#x25AA;&#x25AA;</td><td class='int' title='int32'>&#x25AA;&#x25AA;&#x25AA;&#x25AA;</td><td class='float' title='float64'>&#x25AA;&#x25AA;&#x25AA;&#x25AA;&#x25AA;&#x25AA;&#x25AA;&#x25AA;</td><td class='int' title='int32'>&#x25AA;&#x25AA;&#x25AA;&#x25AA;</td><td class='int' title='int32'>&#x25AA;&#x25AA;&#x25AA;&#x25AA;</td><td class='str' title='str32'>&#x25AA;&#x25AA;&#x25AA;&#x25AA;</td></tr>\n",
       "  </thead>\n",
       "  <tbody>\n",
       "    <tr><td class='row_index'>0</td><td>01/01/2019 12:00:00 AM</td><td>1260</td><td>0.6</td><td>77</td><td>28</td><td>Blue Ribbon Taxi Association Inc.</td></tr>\n",
       "    <tr><td class='row_index'>1</td><td>01/01/2019 12:00:00 AM</td><td>360</td><td>0.8</td><td>8</td><td>8</td><td>Taxi Affiliation Services</td></tr>\n",
       "    <tr><td class='row_index'>2</td><td>01/01/2019 12:00:00 AM</td><td>360</td><td>1</td><td>8</td><td>8</td><td>Taxi Affiliation Services</td></tr>\n",
       "    <tr><td class='row_index'>3</td><td>01/01/2019 12:00:00 AM</td><td>420</td><td>0.8</td><td>8</td><td>8</td><td>Taxicab Insurance Agency, LLC</td></tr>\n",
       "    <tr><td class='row_index'>4</td><td>01/01/2019 12:00:00 AM</td><td>180</td><td>0.7</td><td>77</td><td>4</td><td>Taxi Affiliation Services</td></tr>\n",
       "    <tr><td class='row_index'>5</td><td>01/01/2019 12:00:00 AM</td><td>960</td><td>0.6</td><td>28</td><td>32</td><td>Taxi Affiliation Services</td></tr>\n",
       "    <tr><td class='row_index'>6</td><td>01/01/2019 12:00:00 AM</td><td>540</td><td>1</td><td>32</td><td>8</td><td>Choice Taxi Association</td></tr>\n",
       "    <tr><td class='row_index'>7</td><td>01/01/2019 12:00:00 AM</td><td>1800</td><td>3.2</td><td>32</td><td>8</td><td>Star North Management LLC</td></tr>\n",
       "    <tr><td class='row_index'>8</td><td>01/01/2019 12:00:00 AM</td><td>1560</td><td>14.3</td><td>76</td><td>8</td><td>Top Cab Affiliation</td></tr>\n",
       "    <tr><td class='row_index'>9</td><td>01/01/2019 12:00:00 AM</td><td>1980</td><td>5.8</td><td>32</td><td>32</td><td>Taxi Affiliation Services</td></tr>\n",
       "    <tr><td class='row_index'>10</td><td>01/01/2019 12:00:00 AM</td><td>1800</td><td>12.5</td><td>76</td><td>4</td><td>Taxi Affiliation Services</td></tr>\n",
       "    <tr><td class='row_index'>11</td><td>01/01/2019 12:00:00 AM</td><td>420</td><td>0.9</td><td>32</td><td>8</td><td>Choice Taxi Association</td></tr>\n",
       "    <tr><td class='row_index'>12</td><td>01/01/2019 12:00:00 AM</td><td>720</td><td>2.4</td><td>32</td><td>33</td><td>Taxi Affiliation Services</td></tr>\n",
       "    <tr><td class='row_index'>13</td><td>01/01/2019 12:00:00 AM</td><td>480</td><td>0.7</td><td>32</td><td>32</td><td>Taxi Affiliation Services</td></tr>\n",
       "    <tr><td class='row_index'>14</td><td>01/01/2019 12:00:00 AM</td><td>360</td><td>1.4</td><td>6</td><td>7</td><td>Taxi Affiliation Services</td></tr>\n",
       "    <tr><td class='row_index'>&#x22EE;</td><td class='hellipsis'>&#x22EE;</td><td class='hellipsis'>&#x22EE;</td><td class='hellipsis'>&#x22EE;</td><td class='hellipsis'>&#x22EE;</td><td class='hellipsis'>&#x22EE;</td><td class='hellipsis'>&#x22EE;</td></tr>\n",
       "    <tr><td class='row_index'>11,398,000</td><td>12/31/2019 11:45:00 PM</td><td>2241</td><td>2.21</td><td>32</td><td>8</td><td>Flash Cab</td></tr>\n",
       "    <tr><td class='row_index'>11,398,001</td><td>12/31/2019 11:45:00 PM</td><td>1639</td><td>4.1</td><td>7</td><td>32</td><td>Sun Taxi</td></tr>\n",
       "    <tr><td class='row_index'>11,398,002</td><td>12/31/2019 11:45:00 PM</td><td>2040</td><td>18.3</td><td>76</td><td>8</td><td>4053 - 40193 Adwar H. Nikola</td></tr>\n",
       "    <tr><td class='row_index'>11,398,003</td><td>12/31/2019 11:45:00 PM</td><td>4271</td><td>17.81</td><td>56</td><td>8</td><td>Chicago Carriage Cab Corp</td></tr>\n",
       "    <tr><td class='row_index'>11,398,004</td><td>12/31/2019 11:45:00 PM</td><td>600</td><td>1.3</td><td>32</td><td>8</td><td>Star North Management LLC</td></tr>\n",
       "  </tbody>\n",
       "  </table>\n",
       "  <div class='footer'>\n",
       "    <div class='frame_dimensions'>11,398,005 rows &times; 6 columns</div>\n",
       "  </div>\n",
       "</div>\n"
      ],
      "text/plain": [
       "<Frame#18370249120 11398005x6>"
      ]
     },
     "execution_count": 16,
     "metadata": {},
     "output_type": "execute_result"
    }
   ],
   "source": [
    "import datatable as dt\n",
    "DT = dt.fread(\"startandendinchi.csv\")\n",
    "DT"
   ]
  },
  {
   "cell_type": "code",
   "execution_count": 17,
   "id": "9a0c52b7",
   "metadata": {},
   "outputs": [
    {
     "name": "stdout",
     "output_type": "stream",
     "text": [
      "Processed 22796012 lines.\n"
     ]
    }
   ],
   "source": [
    "import csv\n",
    "\n",
    "with open('startandendinchi.csv') as csv_file:\n",
    "    csv_reader = csv.reader(csv_file, delimiter=',')\n",
    "    line_count = 0\n",
    "    line1 = None\n",
    "    lines = []\n",
    "    for row in csv_reader:\n",
    "        if(line_count == 0):\n",
    "            line1=row\n",
    "        else:\n",
    "            if(row):\n",
    "                lines+=[row]\n",
    "        line_count += 1\n",
    "    print(f'Processed {line_count} lines.')"
   ]
  },
  {
   "cell_type": "code",
   "execution_count": 18,
   "id": "19f1d4bb",
   "metadata": {},
   "outputs": [],
   "source": [
    "filename = 'startandendinchi_n.csv'\n",
    "with open(filename, 'w',newline='') as csvfile:\n",
    "    csvwriter = csv.writer(csvfile) \n",
    "    csvwriter.writerow(line1)\n",
    "    csvwriter.writerows(lines)"
   ]
  },
  {
   "cell_type": "code",
   "execution_count": 2,
   "id": "ce70652d",
   "metadata": {},
   "outputs": [
    {
     "data": {
      "text/html": [
       "<style type='text/css'>\n",
       ".datatable table.frame { margin-bottom: 0; }\n",
       ".datatable table.frame thead { border-bottom: none; }\n",
       ".datatable table.frame tr.coltypes td {  color: #FFFFFF;  line-height: 6px;  padding: 0 0.5em;}\n",
       ".datatable .bool    { background: #DDDD99; }\n",
       ".datatable .object  { background: #565656; }\n",
       ".datatable .int     { background: #5D9E5D; }\n",
       ".datatable .float   { background: #4040CC; }\n",
       ".datatable .str     { background: #CC4040; }\n",
       ".datatable .time    { background: #40CC40; }\n",
       ".datatable .row_index {  background: var(--jp-border-color3);  border-right: 1px solid var(--jp-border-color0);  color: var(--jp-ui-font-color3);  font-size: 9px;}\n",
       ".datatable .frame tbody td { text-align: left; }\n",
       ".datatable .frame tr.coltypes .row_index {  background: var(--jp-border-color0);}\n",
       ".datatable th:nth-child(2) { padding-left: 12px; }\n",
       ".datatable .hellipsis {  color: var(--jp-cell-editor-border-color);}\n",
       ".datatable .vellipsis {  background: var(--jp-layout-color0);  color: var(--jp-cell-editor-border-color);}\n",
       ".datatable .na {  color: var(--jp-cell-editor-border-color);  font-size: 80%;}\n",
       ".datatable .sp {  opacity: 0.25;}\n",
       ".datatable .footer { font-size: 9px; }\n",
       ".datatable .frame_dimensions {  background: var(--jp-border-color3);  border-top: 1px solid var(--jp-border-color0);  color: var(--jp-ui-font-color3);  display: inline-block;  opacity: 0.6;  padding: 1px 10px 1px 5px;}\n",
       "</style>\n"
      ],
      "text/plain": [
       "<IPython.core.display.HTML object>"
      ]
     },
     "metadata": {},
     "output_type": "display_data"
    },
    {
     "data": {
      "text/html": [
       "<div class='datatable'>\n",
       "  <table class='frame'>\n",
       "  <thead>\n",
       "    <tr class='colnames'><td class='row_index'></td><th>Trip Start Timestamp</th><th>Trip Seconds</th><th>Trip Miles</th><th>Pickup Community Area</th><th>Dropoff Community Area</th><th>Company</th></tr>\n",
       "    <tr class='coltypes'><td class='row_index'></td><td class='str' title='str32'>&#x25AA;&#x25AA;&#x25AA;&#x25AA;</td><td class='int' title='int32'>&#x25AA;&#x25AA;&#x25AA;&#x25AA;</td><td class='float' title='float64'>&#x25AA;&#x25AA;&#x25AA;&#x25AA;&#x25AA;&#x25AA;&#x25AA;&#x25AA;</td><td class='int' title='int32'>&#x25AA;&#x25AA;&#x25AA;&#x25AA;</td><td class='int' title='int32'>&#x25AA;&#x25AA;&#x25AA;&#x25AA;</td><td class='str' title='str32'>&#x25AA;&#x25AA;&#x25AA;&#x25AA;</td></tr>\n",
       "  </thead>\n",
       "  <tbody>\n",
       "    <tr><td class='row_index'>0</td><td>01/01/2019 12:00:00 AM</td><td>1260</td><td>0.6</td><td>77</td><td>28</td><td>Blue Ribbon Taxi Association Inc.</td></tr>\n",
       "    <tr><td class='row_index'>1</td><td>01/01/2019 12:00:00 AM</td><td>360</td><td>0.8</td><td>8</td><td>8</td><td>Taxi Affiliation Services</td></tr>\n",
       "    <tr><td class='row_index'>2</td><td>01/01/2019 12:00:00 AM</td><td>360</td><td>1</td><td>8</td><td>8</td><td>Taxi Affiliation Services</td></tr>\n",
       "    <tr><td class='row_index'>3</td><td>01/01/2019 12:00:00 AM</td><td>420</td><td>0.8</td><td>8</td><td>8</td><td>Taxicab Insurance Agency, LLC</td></tr>\n",
       "    <tr><td class='row_index'>4</td><td>01/01/2019 12:00:00 AM</td><td>180</td><td>0.7</td><td>77</td><td>4</td><td>Taxi Affiliation Services</td></tr>\n",
       "    <tr><td class='row_index'>5</td><td>01/01/2019 12:00:00 AM</td><td>960</td><td>0.6</td><td>28</td><td>32</td><td>Taxi Affiliation Services</td></tr>\n",
       "    <tr><td class='row_index'>6</td><td>01/01/2019 12:00:00 AM</td><td>540</td><td>1</td><td>32</td><td>8</td><td>Choice Taxi Association</td></tr>\n",
       "    <tr><td class='row_index'>7</td><td>01/01/2019 12:00:00 AM</td><td>1800</td><td>3.2</td><td>32</td><td>8</td><td>Star North Management LLC</td></tr>\n",
       "    <tr><td class='row_index'>8</td><td>01/01/2019 12:00:00 AM</td><td>1560</td><td>14.3</td><td>76</td><td>8</td><td>Top Cab Affiliation</td></tr>\n",
       "    <tr><td class='row_index'>9</td><td>01/01/2019 12:00:00 AM</td><td>1980</td><td>5.8</td><td>32</td><td>32</td><td>Taxi Affiliation Services</td></tr>\n",
       "    <tr><td class='row_index'>10</td><td>01/01/2019 12:00:00 AM</td><td>1800</td><td>12.5</td><td>76</td><td>4</td><td>Taxi Affiliation Services</td></tr>\n",
       "    <tr><td class='row_index'>11</td><td>01/01/2019 12:00:00 AM</td><td>420</td><td>0.9</td><td>32</td><td>8</td><td>Choice Taxi Association</td></tr>\n",
       "    <tr><td class='row_index'>12</td><td>01/01/2019 12:00:00 AM</td><td>720</td><td>2.4</td><td>32</td><td>33</td><td>Taxi Affiliation Services</td></tr>\n",
       "    <tr><td class='row_index'>13</td><td>01/01/2019 12:00:00 AM</td><td>480</td><td>0.7</td><td>32</td><td>32</td><td>Taxi Affiliation Services</td></tr>\n",
       "    <tr><td class='row_index'>14</td><td>01/01/2019 12:00:00 AM</td><td>360</td><td>1.4</td><td>6</td><td>7</td><td>Taxi Affiliation Services</td></tr>\n",
       "    <tr><td class='row_index'>&#x22EE;</td><td class='hellipsis'>&#x22EE;</td><td class='hellipsis'>&#x22EE;</td><td class='hellipsis'>&#x22EE;</td><td class='hellipsis'>&#x22EE;</td><td class='hellipsis'>&#x22EE;</td><td class='hellipsis'>&#x22EE;</td></tr>\n",
       "    <tr><td class='row_index'>11,398,000</td><td>12/31/2019 11:45:00 PM</td><td>2241</td><td>2.21</td><td>32</td><td>8</td><td>Flash Cab</td></tr>\n",
       "    <tr><td class='row_index'>11,398,001</td><td>12/31/2019 11:45:00 PM</td><td>1639</td><td>4.1</td><td>7</td><td>32</td><td>Sun Taxi</td></tr>\n",
       "    <tr><td class='row_index'>11,398,002</td><td>12/31/2019 11:45:00 PM</td><td>2040</td><td>18.3</td><td>76</td><td>8</td><td>4053 - 40193 Adwar H. Nikola</td></tr>\n",
       "    <tr><td class='row_index'>11,398,003</td><td>12/31/2019 11:45:00 PM</td><td>4271</td><td>17.81</td><td>56</td><td>8</td><td>Chicago Carriage Cab Corp</td></tr>\n",
       "    <tr><td class='row_index'>11,398,004</td><td>12/31/2019 11:45:00 PM</td><td>600</td><td>1.3</td><td>32</td><td>8</td><td>Star North Management LLC</td></tr>\n",
       "  </tbody>\n",
       "  </table>\n",
       "  <div class='footer'>\n",
       "    <div class='frame_dimensions'>11,398,005 rows &times; 6 columns</div>\n",
       "  </div>\n",
       "</div>\n"
      ],
      "text/plain": [
       "<Frame#20450953ba0 11398005x6>"
      ]
     },
     "execution_count": 2,
     "metadata": {},
     "output_type": "execute_result"
    }
   ],
   "source": [
    "import datatable as dt\n",
    "DT = dt.fread(\"startandendinchi.csv\")\n",
    "DT"
   ]
  },
  {
   "cell_type": "code",
   "execution_count": 5,
   "id": "22a7aa9f",
   "metadata": {},
   "outputs": [],
   "source": [
    "compnames = set(DT['Company'].to_list()[0])"
   ]
  },
  {
   "cell_type": "code",
   "execution_count": 74,
   "id": "eeca27a7",
   "metadata": {},
   "outputs": [],
   "source": [
    "dic = {'2733 - 74600 Benny Jona': 'Benny Jona',\n",
    " 'Setare Inc': 'Setare',\n",
    " 'Blue Diamond': 'Blue Diamond',\n",
    " '1085 - 72312 N and W Cab Co':'N and W Cab',\n",
    " 'Leonard Cab Co': 'Leonard Cab',\n",
    " 'City Service': 'City Svc.',\n",
    " 'American United Taxi Affiliation': 'American United Taxi',\n",
    " 'Chicago Star Taxicab': 'Chicago Star Taxicab',\n",
    " '3721 - Santamaria Express, Alvaro Santamaria': 'Santamaria Express',\n",
    " 'Star North Management LLC': 'Star North Mgmt.',\n",
    " 'Taxicab Insurance Agency, LLC': 'Taxicab Ins. Agcy.',\n",
    " 'Top Cab Affiliation': 'Top Cab Aff.',\n",
    " '5874 - 73628 Sergey Cab Corp.': 'Sergey Cab',\n",
    " 'Flash Cab': 'Flash Cab',\n",
    " 'Petani Cab Corp': 'Petani Cab',\n",
    " 'KOAM Taxi Association': 'KOAM Taxi',\n",
    " 'Checker Taxi Affiliation': 'Checker Taxi',\n",
    " '3094 - 24059 G.L.B. Cab Co': 'G.L.B. Cab',\n",
    " '3556 - 36214 RC Andrews Cab': 'RC Andrews Cab',\n",
    " 'U Taxicab': 'U Taxicab',\n",
    " 'Taxi Affiliation Services': 'Taxi Aff. Svcs.',\n",
    " '5006 - 39261 Salifu Bawa': 'Salifu Bawa',\n",
    " 'Sun Taxi': 'Sun Taxi',\n",
    " 'American United': 'American United',\n",
    " 'Gold Coast Taxi': 'Gold Coast Taxi',\n",
    " '3591 - 63480 Chuks Cab': 'Chuks Cab',\n",
    " '4053 - 40193 Adwar H. Nikola': 'Adwar H. Nikola',\n",
    " '3011 - 66308 JBL Cab Inc.': 'JBL Cab.',\n",
    " 'Blue Ribbon Taxi Association Inc.': 'Blue Ribbon Taxi',\n",
    " '3620 - 52292 David K. Cab Corp.': 'David K. Cab',\n",
    " 'Chicago Medallion Management': 'Chicago Medallion Mgmt.',\n",
    " '1469 - 64126 Omar Jada': 'Omar Jada',\n",
    " 'Yellow Cab': 'Yellow Cab',\n",
    " '6742 - 83735 Tasha ride inc': 'Tasha ride',\n",
    " '24 Seven Taxi': '24 Seven Taxi',\n",
    " 'Metro Jet Taxi A': 'Metro Jet Taxi A',\n",
    " '2092 - 61288 Sbeih company': 'Sbeih',\n",
    " '5062 - 34841 Sam Mestas': 'Sam Mestas',\n",
    " '6574 - Babylon Express Inc.': 'Babylon Express',\n",
    " 'Patriot Taxi Dba Peace Taxi Associat': 'Patriot Taxi Dba Peace Taxi',\n",
    " 'Checker Taxi': 'Checker Taxi',\n",
    " '5074 - 54002 Ahzmi Inc': 'Ahzmi',\n",
    " 'Chicago Taxicab': 'Chicago Taxicab',\n",
    " 'Globe Taxi': 'Globe Taxi',\n",
    " '6743 - 78771 Luhak Corp': 'Luhak',\n",
    " 'Nova Taxi Affiliation Llc': 'Nova Taxi',\n",
    " '4623 - 27290 Jay Kim': 'Jay Kim',\n",
    " '3623 - 72222 Arrington Enterprises': 'Arrington Ent.',\n",
    " '5 Star Taxi': '5 Star Taxi',\n",
    " '312 Medallion Management Corp': '312 Medallion Mgmt.',\n",
    " 'Choice Taxi Association': 'Choice Taxi',\n",
    " 'Chicago Carriage Cab Corp': 'Chicago Carriage Cab',\n",
    " 'Chicago Independents': 'Chicago Ind.',\n",
    " 'Medallion Leasin': 'Medallion Leasin',\n",
    " 'Taxi Affiliation Service Yellow': 'Taxi Aff. Svc. Yellow'}\n",
    "# for c  in compnames:\n",
    "#     dic[c] = num\n",
    "#     num += 1\n",
    "# dic"
   ]
  },
  {
   "cell_type": "code",
   "execution_count": 75,
   "id": "591ac94e",
   "metadata": {},
   "outputs": [
    {
     "name": "stdout",
     "output_type": "stream",
     "text": [
      "Processed 22796012 lines.\n"
     ]
    }
   ],
   "source": [
    "import csv\n",
    "\n",
    "with open('startandendinchi.csv') as csv_file:\n",
    "    csv_reader = csv.reader(csv_file, delimiter=',')\n",
    "    line_count = 0\n",
    "    line1 = None\n",
    "    lines = []\n",
    "    for row in csv_reader:\n",
    "        if(line_count == 0):\n",
    "            line1=row\n",
    "        else:\n",
    "            if(row):\n",
    "                row[5] = dic[row[5]]\n",
    "                lines+=[row]\n",
    "        line_count += 1\n",
    "    print(f'Processed {line_count} lines.')"
   ]
  },
  {
   "cell_type": "code",
   "execution_count": 76,
   "id": "a8a1bb7f",
   "metadata": {},
   "outputs": [],
   "source": [
    "filename = 'compNum.csv'\n",
    "with open(filename, 'w',newline='') as csvfile:\n",
    "    csvwriter = csv.writer(csvfile) \n",
    "    csvwriter.writerow(line1)\n",
    "    csvwriter.writerows(lines)"
   ]
  },
  {
   "cell_type": "code",
   "execution_count": 2,
   "id": "d5408042",
   "metadata": {
    "scrolled": true
   },
   "outputs": [
    {
     "data": {
      "text/html": [
       "<style type='text/css'>\n",
       ".datatable table.frame { margin-bottom: 0; }\n",
       ".datatable table.frame thead { border-bottom: none; }\n",
       ".datatable table.frame tr.coltypes td {  color: #FFFFFF;  line-height: 6px;  padding: 0 0.5em;}\n",
       ".datatable .bool    { background: #DDDD99; }\n",
       ".datatable .object  { background: #565656; }\n",
       ".datatable .int     { background: #5D9E5D; }\n",
       ".datatable .float   { background: #4040CC; }\n",
       ".datatable .str     { background: #CC4040; }\n",
       ".datatable .time    { background: #40CC40; }\n",
       ".datatable .row_index {  background: var(--jp-border-color3);  border-right: 1px solid var(--jp-border-color0);  color: var(--jp-ui-font-color3);  font-size: 9px;}\n",
       ".datatable .frame tbody td { text-align: left; }\n",
       ".datatable .frame tr.coltypes .row_index {  background: var(--jp-border-color0);}\n",
       ".datatable th:nth-child(2) { padding-left: 12px; }\n",
       ".datatable .hellipsis {  color: var(--jp-cell-editor-border-color);}\n",
       ".datatable .vellipsis {  background: var(--jp-layout-color0);  color: var(--jp-cell-editor-border-color);}\n",
       ".datatable .na {  color: var(--jp-cell-editor-border-color);  font-size: 80%;}\n",
       ".datatable .sp {  opacity: 0.25;}\n",
       ".datatable .footer { font-size: 9px; }\n",
       ".datatable .frame_dimensions {  background: var(--jp-border-color3);  border-top: 1px solid var(--jp-border-color0);  color: var(--jp-ui-font-color3);  display: inline-block;  opacity: 0.6;  padding: 1px 10px 1px 5px;}\n",
       "</style>\n"
      ],
      "text/plain": [
       "<IPython.core.display.HTML object>"
      ]
     },
     "metadata": {},
     "output_type": "display_data"
    },
    {
     "data": {
      "text/html": [
       "<div class='datatable'>\n",
       "  <table class='frame'>\n",
       "  <thead>\n",
       "    <tr class='colnames'><td class='row_index'></td><th>Trip Start Timestamp</th><th>Trip Seconds</th><th>Trip Miles</th><th>Pickup Community Area</th><th>Dropoff Community Area</th><th>Company</th></tr>\n",
       "    <tr class='coltypes'><td class='row_index'></td><td class='str' title='str32'>&#x25AA;&#x25AA;&#x25AA;&#x25AA;</td><td class='int' title='int32'>&#x25AA;&#x25AA;&#x25AA;&#x25AA;</td><td class='float' title='float64'>&#x25AA;&#x25AA;&#x25AA;&#x25AA;&#x25AA;&#x25AA;&#x25AA;&#x25AA;</td><td class='int' title='int32'>&#x25AA;&#x25AA;&#x25AA;&#x25AA;</td><td class='int' title='int32'>&#x25AA;&#x25AA;&#x25AA;&#x25AA;</td><td class='str' title='str32'>&#x25AA;&#x25AA;&#x25AA;&#x25AA;</td></tr>\n",
       "  </thead>\n",
       "  <tbody>\n",
       "    <tr><td class='row_index'>0</td><td>01/01/2019 12:00:00 AM</td><td>1260</td><td>0.6</td><td>77</td><td>28</td><td>Blue Ribbon Taxi</td></tr>\n",
       "    <tr><td class='row_index'>1</td><td>01/01/2019 12:00:00 AM</td><td>360</td><td>0.8</td><td>8</td><td>8</td><td>Taxi Aff. Svcs.</td></tr>\n",
       "    <tr><td class='row_index'>2</td><td>01/01/2019 12:00:00 AM</td><td>360</td><td>1</td><td>8</td><td>8</td><td>Taxi Aff. Svcs.</td></tr>\n",
       "    <tr><td class='row_index'>3</td><td>01/01/2019 12:00:00 AM</td><td>420</td><td>0.8</td><td>8</td><td>8</td><td>Taxicab Ins. Agcy.</td></tr>\n",
       "    <tr><td class='row_index'>4</td><td>01/01/2019 12:00:00 AM</td><td>180</td><td>0.7</td><td>77</td><td>4</td><td>Taxi Aff. Svcs.</td></tr>\n",
       "    <tr><td class='row_index'>5</td><td>01/01/2019 12:00:00 AM</td><td>960</td><td>0.6</td><td>28</td><td>32</td><td>Taxi Aff. Svcs.</td></tr>\n",
       "    <tr><td class='row_index'>6</td><td>01/01/2019 12:00:00 AM</td><td>540</td><td>1</td><td>32</td><td>8</td><td>Choice Taxi</td></tr>\n",
       "    <tr><td class='row_index'>7</td><td>01/01/2019 12:00:00 AM</td><td>1800</td><td>3.2</td><td>32</td><td>8</td><td>Star North Mgmt.</td></tr>\n",
       "    <tr><td class='row_index'>8</td><td>01/01/2019 12:00:00 AM</td><td>1560</td><td>14.3</td><td>76</td><td>8</td><td>Top Cab Aff.</td></tr>\n",
       "    <tr><td class='row_index'>9</td><td>01/01/2019 12:00:00 AM</td><td>1980</td><td>5.8</td><td>32</td><td>32</td><td>Taxi Aff. Svcs.</td></tr>\n",
       "    <tr><td class='row_index'>10</td><td>01/01/2019 12:00:00 AM</td><td>1800</td><td>12.5</td><td>76</td><td>4</td><td>Taxi Aff. Svcs.</td></tr>\n",
       "    <tr><td class='row_index'>11</td><td>01/01/2019 12:00:00 AM</td><td>420</td><td>0.9</td><td>32</td><td>8</td><td>Choice Taxi</td></tr>\n",
       "    <tr><td class='row_index'>12</td><td>01/01/2019 12:00:00 AM</td><td>720</td><td>2.4</td><td>32</td><td>33</td><td>Taxi Aff. Svcs.</td></tr>\n",
       "    <tr><td class='row_index'>13</td><td>01/01/2019 12:00:00 AM</td><td>480</td><td>0.7</td><td>32</td><td>32</td><td>Taxi Aff. Svcs.</td></tr>\n",
       "    <tr><td class='row_index'>14</td><td>01/01/2019 12:00:00 AM</td><td>360</td><td>1.4</td><td>6</td><td>7</td><td>Taxi Aff. Svcs.</td></tr>\n",
       "    <tr><td class='row_index'>&#x22EE;</td><td class='hellipsis'>&#x22EE;</td><td class='hellipsis'>&#x22EE;</td><td class='hellipsis'>&#x22EE;</td><td class='hellipsis'>&#x22EE;</td><td class='hellipsis'>&#x22EE;</td><td class='hellipsis'>&#x22EE;</td></tr>\n",
       "    <tr><td class='row_index'>11,398,000</td><td>12/31/2019 11:45:00 PM</td><td>2241</td><td>2.21</td><td>32</td><td>8</td><td>Flash Cab</td></tr>\n",
       "    <tr><td class='row_index'>11,398,001</td><td>12/31/2019 11:45:00 PM</td><td>1639</td><td>4.1</td><td>7</td><td>32</td><td>Sun Taxi</td></tr>\n",
       "    <tr><td class='row_index'>11,398,002</td><td>12/31/2019 11:45:00 PM</td><td>2040</td><td>18.3</td><td>76</td><td>8</td><td>Adwar H. Nikola</td></tr>\n",
       "    <tr><td class='row_index'>11,398,003</td><td>12/31/2019 11:45:00 PM</td><td>4271</td><td>17.81</td><td>56</td><td>8</td><td>Chicago Carriage Cab</td></tr>\n",
       "    <tr><td class='row_index'>11,398,004</td><td>12/31/2019 11:45:00 PM</td><td>600</td><td>1.3</td><td>32</td><td>8</td><td>Star North Mgmt.</td></tr>\n",
       "  </tbody>\n",
       "  </table>\n",
       "  <div class='footer'>\n",
       "    <div class='frame_dimensions'>11,398,005 rows &times; 6 columns</div>\n",
       "  </div>\n",
       "</div>\n"
      ],
      "text/plain": [
       "<Frame#27e76cd6030 11398005x6>"
      ]
     },
     "execution_count": 2,
     "metadata": {},
     "output_type": "execute_result"
    }
   ],
   "source": [
    "import datatable as dt\n",
    "DT = dt.fread(\"compNum.csv\")\n",
    "DT\n",
    "# remove 6 chars from time stamp, manually chang ecompnay names"
   ]
  },
  {
   "cell_type": "code",
   "execution_count": 3,
   "id": "3ffb6a35",
   "metadata": {},
   "outputs": [
    {
     "name": "stdout",
     "output_type": "stream",
     "text": [
      "01/01 00\n"
     ]
    }
   ],
   "source": [
    "m2 = DT[0,0][0:5] + DT[0,0][10:13] + DT[0,0][-3:] \n",
    "\n",
    "from datetime import datetime\n",
    "# m2 = '1:35 PM'\n",
    "in_time = datetime.strptime(m2, \"%M/%d %I %p\")\n",
    "out_time = datetime.strftime(in_time, \"%M/%d %H\")\n",
    "print(out_time)"
   ]
  },
  {
   "cell_type": "code",
   "execution_count": 4,
   "id": "3ad2036b",
   "metadata": {},
   "outputs": [
    {
     "name": "stdout",
     "output_type": "stream",
     "text": [
      "0\n",
      "100000\n",
      "200000\n",
      "300000\n",
      "400000\n",
      "500000\n",
      "600000\n",
      "700000\n",
      "800000\n",
      "900000\n",
      "1000000\n",
      "1100000\n",
      "1200000\n",
      "1300000\n",
      "1400000\n",
      "1500000\n",
      "1600000\n",
      "1700000\n",
      "1800000\n",
      "1900000\n",
      "2000000\n",
      "2100000\n",
      "2200000\n",
      "2300000\n",
      "2400000\n",
      "2500000\n",
      "2600000\n",
      "2700000\n",
      "2800000\n",
      "2900000\n",
      "3000000\n",
      "3100000\n",
      "3200000\n",
      "3300000\n",
      "3400000\n",
      "3500000\n",
      "3600000\n",
      "3700000\n",
      "3800000\n",
      "3900000\n",
      "4000000\n",
      "4100000\n",
      "4200000\n",
      "4300000\n",
      "4400000\n",
      "4500000\n",
      "4600000\n",
      "4700000\n",
      "4800000\n",
      "4900000\n",
      "5000000\n",
      "5100000\n",
      "5200000\n",
      "5300000\n",
      "5400000\n",
      "5500000\n",
      "5600000\n",
      "5700000\n",
      "5800000\n",
      "5900000\n",
      "6000000\n",
      "6100000\n",
      "6200000\n",
      "6300000\n",
      "6400000\n",
      "6500000\n",
      "6600000\n",
      "6700000\n",
      "6800000\n",
      "6900000\n",
      "7000000\n",
      "7100000\n",
      "7200000\n",
      "7300000\n",
      "7400000\n",
      "7500000\n",
      "7600000\n",
      "7700000\n",
      "7800000\n",
      "7900000\n",
      "8000000\n",
      "8100000\n",
      "8200000\n",
      "8300000\n",
      "8400000\n",
      "8500000\n",
      "8600000\n",
      "8700000\n",
      "8800000\n",
      "8900000\n",
      "9000000\n",
      "9100000\n",
      "9200000\n",
      "9300000\n",
      "9400000\n",
      "9500000\n",
      "9600000\n",
      "9700000\n",
      "9800000\n",
      "9900000\n",
      "10000000\n",
      "10100000\n",
      "10200000\n",
      "10300000\n",
      "10400000\n",
      "10500000\n",
      "10600000\n",
      "10700000\n",
      "10800000\n",
      "10900000\n",
      "11000000\n",
      "11100000\n",
      "11200000\n",
      "11300000\n",
      "Processed 11398006 lines.\n"
     ]
    }
   ],
   "source": [
    "import csv\n",
    "\n",
    "with open('compNum.csv') as csv_file:\n",
    "    csv_reader = csv.reader(csv_file, delimiter=',')\n",
    "    line_count = 0\n",
    "    line1 = None\n",
    "    lines = []\n",
    "    for row in csv_reader:\n",
    "        if(line_count == 0):\n",
    "            line1= row + ['Hour']\n",
    "        else:\n",
    "            if(row):\n",
    "                date = row[0][0:5] + row[0][10:13] + row[0][-3:]\n",
    "                in_time = datetime.strptime(date, \"%M/%d %I %p\")\n",
    "                out_time = datetime.strftime(in_time, \"%M/%d %H\")\n",
    "                li = out_time.split(' ')\n",
    "                row[0] = li[0]\n",
    "                row += [li[1]]\n",
    "                lines+=[row]\n",
    "        if(line_count % 100000 == 0):\n",
    "            print(line_count)\n",
    "        line_count += 1\n",
    "    print(f'Processed {line_count} lines.')"
   ]
  },
  {
   "cell_type": "code",
   "execution_count": 5,
   "id": "182e9dba",
   "metadata": {},
   "outputs": [],
   "source": [
    "filename = 'timesmall.csv'\n",
    "with open(filename, 'w',newline='') as csvfile:\n",
    "    csvwriter = csv.writer(csvfile) \n",
    "    csvwriter.writerow(line1)\n",
    "    csvwriter.writerows(lines)"
   ]
  },
  {
   "cell_type": "code",
   "execution_count": 6,
   "id": "e594eb0a",
   "metadata": {
    "scrolled": true
   },
   "outputs": [
    {
     "data": {
      "text/html": [
       "<div class='datatable'>\n",
       "  <table class='frame'>\n",
       "  <thead>\n",
       "    <tr class='colnames'><td class='row_index'></td><th>Trip Start Timestamp</th><th>Trip Seconds</th><th>Trip Miles</th><th>Pickup Community Area</th><th>Dropoff Community Area</th><th>Company</th><th>Hour</th></tr>\n",
       "    <tr class='coltypes'><td class='row_index'></td><td class='str' title='str32'>&#x25AA;&#x25AA;&#x25AA;&#x25AA;</td><td class='int' title='int32'>&#x25AA;&#x25AA;&#x25AA;&#x25AA;</td><td class='float' title='float64'>&#x25AA;&#x25AA;&#x25AA;&#x25AA;&#x25AA;&#x25AA;&#x25AA;&#x25AA;</td><td class='int' title='int32'>&#x25AA;&#x25AA;&#x25AA;&#x25AA;</td><td class='int' title='int32'>&#x25AA;&#x25AA;&#x25AA;&#x25AA;</td><td class='str' title='str32'>&#x25AA;&#x25AA;&#x25AA;&#x25AA;</td><td class='int' title='int32'>&#x25AA;&#x25AA;&#x25AA;&#x25AA;</td></tr>\n",
       "  </thead>\n",
       "  <tbody>\n",
       "    <tr><td class='row_index'>0</td><td>01/01</td><td>1260</td><td>0.6</td><td>77</td><td>28</td><td>Blue Ribbon Taxi</td><td>0</td></tr>\n",
       "    <tr><td class='row_index'>1</td><td>01/01</td><td>360</td><td>0.8</td><td>8</td><td>8</td><td>Taxi Aff. Svcs.</td><td>0</td></tr>\n",
       "    <tr><td class='row_index'>2</td><td>01/01</td><td>360</td><td>1</td><td>8</td><td>8</td><td>Taxi Aff. Svcs.</td><td>0</td></tr>\n",
       "    <tr><td class='row_index'>3</td><td>01/01</td><td>420</td><td>0.8</td><td>8</td><td>8</td><td>Taxicab Ins. Agcy.</td><td>0</td></tr>\n",
       "    <tr><td class='row_index'>4</td><td>01/01</td><td>180</td><td>0.7</td><td>77</td><td>4</td><td>Taxi Aff. Svcs.</td><td>0</td></tr>\n",
       "    <tr><td class='row_index'>5</td><td>01/01</td><td>960</td><td>0.6</td><td>28</td><td>32</td><td>Taxi Aff. Svcs.</td><td>0</td></tr>\n",
       "    <tr><td class='row_index'>6</td><td>01/01</td><td>540</td><td>1</td><td>32</td><td>8</td><td>Choice Taxi</td><td>0</td></tr>\n",
       "    <tr><td class='row_index'>7</td><td>01/01</td><td>1800</td><td>3.2</td><td>32</td><td>8</td><td>Star North Mgmt.</td><td>0</td></tr>\n",
       "    <tr><td class='row_index'>8</td><td>01/01</td><td>1560</td><td>14.3</td><td>76</td><td>8</td><td>Top Cab Aff.</td><td>0</td></tr>\n",
       "    <tr><td class='row_index'>9</td><td>01/01</td><td>1980</td><td>5.8</td><td>32</td><td>32</td><td>Taxi Aff. Svcs.</td><td>0</td></tr>\n",
       "    <tr><td class='row_index'>10</td><td>01/01</td><td>1800</td><td>12.5</td><td>76</td><td>4</td><td>Taxi Aff. Svcs.</td><td>0</td></tr>\n",
       "    <tr><td class='row_index'>11</td><td>01/01</td><td>420</td><td>0.9</td><td>32</td><td>8</td><td>Choice Taxi</td><td>0</td></tr>\n",
       "    <tr><td class='row_index'>12</td><td>01/01</td><td>720</td><td>2.4</td><td>32</td><td>33</td><td>Taxi Aff. Svcs.</td><td>0</td></tr>\n",
       "    <tr><td class='row_index'>13</td><td>01/01</td><td>480</td><td>0.7</td><td>32</td><td>32</td><td>Taxi Aff. Svcs.</td><td>0</td></tr>\n",
       "    <tr><td class='row_index'>14</td><td>01/01</td><td>360</td><td>1.4</td><td>6</td><td>7</td><td>Taxi Aff. Svcs.</td><td>0</td></tr>\n",
       "    <tr><td class='row_index'>&#x22EE;</td><td class='hellipsis'>&#x22EE;</td><td class='hellipsis'>&#x22EE;</td><td class='hellipsis'>&#x22EE;</td><td class='hellipsis'>&#x22EE;</td><td class='hellipsis'>&#x22EE;</td><td class='hellipsis'>&#x22EE;</td><td class='hellipsis'>&#x22EE;</td></tr>\n",
       "    <tr><td class='row_index'>11,398,000</td><td>12/31</td><td>2241</td><td>2.21</td><td>32</td><td>8</td><td>Flash Cab</td><td>23</td></tr>\n",
       "    <tr><td class='row_index'>11,398,001</td><td>12/31</td><td>1639</td><td>4.1</td><td>7</td><td>32</td><td>Sun Taxi</td><td>23</td></tr>\n",
       "    <tr><td class='row_index'>11,398,002</td><td>12/31</td><td>2040</td><td>18.3</td><td>76</td><td>8</td><td>Adwar H. Nikola</td><td>23</td></tr>\n",
       "    <tr><td class='row_index'>11,398,003</td><td>12/31</td><td>4271</td><td>17.81</td><td>56</td><td>8</td><td>Chicago Carriage Cab</td><td>23</td></tr>\n",
       "    <tr><td class='row_index'>11,398,004</td><td>12/31</td><td>600</td><td>1.3</td><td>32</td><td>8</td><td>Star North Mgmt.</td><td>23</td></tr>\n",
       "  </tbody>\n",
       "  </table>\n",
       "  <div class='footer'>\n",
       "    <div class='frame_dimensions'>11,398,005 rows &times; 7 columns</div>\n",
       "  </div>\n",
       "</div>\n"
      ],
      "text/plain": [
       "<Frame#27e76cd6cc0 11398005x7>"
      ]
     },
     "execution_count": 6,
     "metadata": {},
     "output_type": "execute_result"
    }
   ],
   "source": [
    "import datatable as dt\n",
    "DT = dt.fread(\"timesmall.csv\")\n",
    "DT"
   ]
  },
  {
   "cell_type": "code",
   "execution_count": 7,
   "id": "15e52da6",
   "metadata": {},
   "outputs": [
    {
     "name": "stdout",
     "output_type": "stream",
     "text": [
      "0\n",
      "100000\n",
      "200000\n",
      "300000\n",
      "400000\n",
      "500000\n",
      "600000\n",
      "700000\n",
      "800000\n",
      "900000\n",
      "1000000\n",
      "1100000\n",
      "1200000\n",
      "1300000\n",
      "1400000\n",
      "1500000\n",
      "1600000\n",
      "1700000\n",
      "1800000\n",
      "1900000\n",
      "2000000\n",
      "2100000\n",
      "2200000\n",
      "2300000\n",
      "2400000\n",
      "2500000\n",
      "2600000\n",
      "2700000\n",
      "2800000\n",
      "2900000\n",
      "3000000\n",
      "3100000\n",
      "3200000\n",
      "3300000\n",
      "3400000\n",
      "3500000\n",
      "3600000\n",
      "3700000\n",
      "3800000\n",
      "3900000\n",
      "4000000\n",
      "4100000\n",
      "4200000\n",
      "4300000\n",
      "4400000\n",
      "4500000\n",
      "4600000\n",
      "4700000\n",
      "4800000\n",
      "4900000\n",
      "5000000\n",
      "5100000\n",
      "5200000\n",
      "5300000\n",
      "5400000\n",
      "5500000\n",
      "5600000\n",
      "5700000\n",
      "5800000\n",
      "5900000\n",
      "6000000\n",
      "6100000\n",
      "6200000\n",
      "6300000\n",
      "6400000\n",
      "6500000\n",
      "6600000\n",
      "6700000\n",
      "6800000\n",
      "6900000\n",
      "7000000\n",
      "7100000\n",
      "7200000\n",
      "7300000\n",
      "7400000\n",
      "7500000\n",
      "7600000\n",
      "7700000\n",
      "7800000\n",
      "7900000\n",
      "8000000\n",
      "8100000\n",
      "8200000\n",
      "8300000\n",
      "8400000\n",
      "8500000\n",
      "8600000\n",
      "8700000\n",
      "8800000\n",
      "8900000\n",
      "9000000\n",
      "9100000\n",
      "9200000\n",
      "9300000\n",
      "9400000\n",
      "9500000\n",
      "9600000\n",
      "9700000\n",
      "9800000\n",
      "9900000\n",
      "10000000\n",
      "10100000\n",
      "10200000\n",
      "10300000\n",
      "10400000\n",
      "10500000\n",
      "10600000\n",
      "10700000\n",
      "10800000\n",
      "10900000\n",
      "11000000\n",
      "11100000\n",
      "11200000\n",
      "11300000\n",
      "Processed 11398006 lines.\n"
     ]
    }
   ],
   "source": [
    "import csv\n",
    "\n",
    "with open('timesmall.csv') as csv_file:\n",
    "    csv_reader = csv.reader(csv_file, delimiter=',')\n",
    "    line_count = 0\n",
    "    line1 = None\n",
    "    lines = []\n",
    "    for row in csv_reader:\n",
    "        if(line_count == 0):\n",
    "            line1= row\n",
    "        else:\n",
    "            if(row):\n",
    "                li = row[0].split('/')\n",
    "                row[0] = '2019'+li[0]+li[1]\n",
    "                lines+=[row]\n",
    "        if(line_count % 100000 == 0):\n",
    "            print(line_count)\n",
    "        line_count += 1\n",
    "    print(f'Processed {line_count} lines.')"
   ]
  },
  {
   "cell_type": "code",
   "execution_count": null,
   "id": "99b0f71f",
   "metadata": {},
   "outputs": [],
   "source": [
    "filename = 'updatedate.csv'\n",
    "with open(filename, 'w',newline='') as csvfile:\n",
    "    csvwriter = csv.writer(csvfile) \n",
    "    csvwriter.writerow(line1)\n",
    "    csvwriter.writerows(lines)"
   ]
  },
  {
   "cell_type": "code",
   "execution_count": null,
   "id": "9b9d1c01",
   "metadata": {},
   "outputs": [],
   "source": [
    "import datatable as dt\n",
    "DT = dt.fread(\"updatedate.csv\")\n",
    "DT"
   ]
  },
  {
   "cell_type": "markdown",
   "id": "14457236",
   "metadata": {},
   "source": [
    " split -l 760000 timesmall.csv data_split_"
   ]
  }
 ],
 "metadata": {
  "kernelspec": {
   "display_name": "Python 3 (ipykernel)",
   "language": "python",
   "name": "python3"
  },
  "language_info": {
   "codemirror_mode": {
    "name": "ipython",
    "version": 3
   },
   "file_extension": ".py",
   "mimetype": "text/x-python",
   "name": "python",
   "nbconvert_exporter": "python",
   "pygments_lexer": "ipython3",
   "version": "3.9.7"
  }
 },
 "nbformat": 4,
 "nbformat_minor": 5
}
